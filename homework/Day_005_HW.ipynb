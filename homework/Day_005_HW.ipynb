{
 "cells": [
  {
   "cell_type": "markdown",
   "metadata": {
    "id": "oef8c2jr-PZY"
   },
   "source": [
    "作業目標<br>\n",
    "計算有缺失值的資料，統計量實作<br>\n",
    "作業重點<br>\n",
    "當遇到缺失值有函式可以處理，不須額外寫程式刪除<br>\n",
    "計算統計量時不能出現缺失值"
   ]
  },
  {
   "cell_type": "markdown",
   "metadata": {
    "id": "4YgL8NF4-Ru3"
   },
   "source": [
    "題目:<br>\n",
    "english_score = np.array([55,89,76,65,48,70])<br>\n",
    "math_score = np.array([60,85,60,68,np.nan,60])<br>\n",
    "chinese_score = np.array([65,90,82,72,66,77])<br>\n",
    "上3列共六位同學的英文、數學、國文成績，第一個元素代表第一位同學，舉例第一位同學英文55分、數學60分、國文65分，今天第五位同學因某原因沒來考試，導致數學成績缺值，運用上列數據回答下列問題。<br>\n",
    "1. 請計算各科成績平均、最大值、最小值、標準差，其中數學缺一筆資料可忽略?\n",
    "2. 第五位同學補考數學後成績為55，請計算補考後數學成績平均、最大值、最小值、標準差?\n",
    "3. 用補考後資料找出與國文成績相關係數最高的學科?"
   ]
  },
  {
   "cell_type": "code",
   "execution_count": 1,
   "metadata": {
    "executionInfo": {
     "elapsed": 617,
     "status": "ok",
     "timestamp": 1609854566856,
     "user": {
      "displayName": "献竤黃",
      "photoUrl": "",
      "userId": "07529243043474362942"
     },
     "user_tz": -480
    },
    "id": "QwsKU8qO-RK7"
   },
   "outputs": [],
   "source": [
    "import numpy as np"
   ]
  },
  {
   "cell_type": "code",
   "execution_count": 2,
   "metadata": {
    "executionInfo": {
     "elapsed": 1016,
     "status": "ok",
     "timestamp": 1609854567261,
     "user": {
      "displayName": "献竤黃",
      "photoUrl": "",
      "userId": "07529243043474362942"
     },
     "user_tz": -480
    },
    "id": "B5BqDQAe_czh"
   },
   "outputs": [],
   "source": [
    "english_score = np.array([55,89,76,65,48,70])\n",
    "math_score = np.array([60,85,60,68,np.nan,60])\n",
    "chinese_score = np.array([65,90,82,72,66,77])"
   ]
  },
  {
   "cell_type": "code",
   "execution_count": 10,
   "metadata": {
    "executionInfo": {
     "elapsed": 1005,
     "status": "ok",
     "timestamp": 1609854567262,
     "user": {
      "displayName": "献竤黃",
      "photoUrl": "",
      "userId": "07529243043474362942"
     },
     "user_tz": -480
    },
    "id": "K3tUA6u9aI3N"
   },
   "outputs": [
    {
     "name": "stdout",
     "output_type": "stream",
     "text": [
      "英文的平均分數： 67.1667 \t最大值： 89 \t最小值： 48 \t標準差： 13.434\n",
      "數學的平均分數： 66.6 \t最大值： 85.0 \t最小值： 60.0 \t標準差： 9.7077\n",
      "國文的平均分數： 75.3333 \t最大值： 90 \t最小值： 65 \t標準差： 8.8255\n"
     ]
    }
   ],
   "source": [
    "#1. 請計算各科成績平均、最大值、最小值、標準差，其中數學缺一筆資料可忽略?\n",
    "# 平均值\n",
    "english_mean = np.mean(english_score)\n",
    "math_mean = np.nanmean(math_score)\n",
    "chinese_mean = np.mean(chinese_score)\n",
    "\n",
    "# 最大值\n",
    "english_max = np.nanmax(english_score)\n",
    "math_max = np.nanmax(math_score)\n",
    "chinese_max = np.nanmax(chinese_score)\n",
    "\n",
    "# 最小值\n",
    "english_min = np.min(english_score)\n",
    "math_min = np.nanmin(math_score)\n",
    "chinese_min = np.min(chinese_score)\n",
    "\n",
    "# 標準差\n",
    "english_std = np.std(english_score)\n",
    "math_std = np.nanstd(math_score)\n",
    "chinese_std = np.std(chinese_score)\n",
    "\n",
    "print(\"英文的平均分數：\", round(english_mean, 4) ,\"\\t最大值：\", english_max ,\n",
    "      \"\\t最小值：\", english_min ,\"\\t標準差：\", round(english_std, 4))\n",
    "print(\"數學的平均分數：\", round(math_mean, 4) ,   \"\\t最大值：\", math_max ,   \n",
    "      \"\\t最小值：\", math_min ,   \"\\t標準差：\", round(math_std, 4))\n",
    "print(\"國文的平均分數：\", round(chinese_mean, 4) ,\"\\t最大值：\", chinese_max ,\n",
    "      \"\\t最小值：\", chinese_min ,\"\\t標準差：\", round(chinese_std, 4))"
   ]
  },
  {
   "cell_type": "code",
   "execution_count": 16,
   "metadata": {
    "executionInfo": {
     "elapsed": 996,
     "status": "ok",
     "timestamp": 1609854567262,
     "user": {
      "displayName": "献竤黃",
      "photoUrl": "",
      "userId": "07529243043474362942"
     },
     "user_tz": -480
    },
    "id": "mXjDzvSrbLlf"
   },
   "outputs": [
    {
     "name": "stdout",
     "output_type": "stream",
     "text": [
      "第五位同學補考後的數學成績： [60. 85. 60. 68. 55. 60.]\n",
      "第五位同學補考後數學的平均分數： 66.6 \t最大值： 85.0 \t最小值： 60.0 \t標準差： 9.7077\n"
     ]
    }
   ],
   "source": [
    "#2. 第五位同學補考數學後成績為55，請計算補考後數學成績平均、最大值、最小值、標準差?\n",
    "math_requiz_score = np.array([60,85,60,68,np.nan,60])\n",
    "math_requiz_score[np.isnan(math_requiz_score)] = 55       # 第五位同學補考數學成績為55分\n",
    "print(\"第五位同學補考後的數學成績：\", math_requiz_score)\n",
    "\n",
    "math_requiz_mean = np.nanmean(math_score)     # 數學補考成績後的平均數\n",
    "math_requiz_max = np.nanmax(math_score)       # 數學補考成績後的最大值\n",
    "math_requiz_min = np.nanmin(math_score)       # 數學補考成績後的最小值\n",
    "math_requiz_std = np.nanstd(math_score)       # 數學補考成績後的標準差\n",
    "print(\"第五位同學補考後數學的平均分數：\", round(math_requiz_mean, 4) ,   \"\\t最大值：\", math_requiz_max ,\n",
    "      \"\\t最小值：\", math_requiz_min ,   \"\\t標準差：\", round(math_requiz_std, 4))"
   ]
  },
  {
   "cell_type": "code",
   "execution_count": 27,
   "metadata": {
    "executionInfo": {
     "elapsed": 989,
     "status": "ok",
     "timestamp": 1609854567264,
     "user": {
      "displayName": "献竤黃",
      "photoUrl": "",
      "userId": "07529243043474362942"
     },
     "user_tz": -480
    },
    "id": "SaGolKx0cKoU"
   },
   "outputs": [
    {
     "name": "stdout",
     "output_type": "stream",
     "text": [
      "補考後數學與國文成績的相關係數：\n",
      " [[1.         0.74056803]\n",
      " [0.74056803 1.        ]]\n",
      "英文與國文成績的相關係數：\n",
      " [[1.         0.97792828]\n",
      " [0.97792828 1.        ]]\n",
      "與國文成績的相關係數最高的學科：英文\n"
     ]
    }
   ],
   "source": [
    "#3. 用補考後資料找出與國文成績相關係數最高的學科\n",
    "math_requiz_chinese_coef = np.corrcoef(math_requiz_score, chinese_score)\n",
    "english_chinese_coef = np.corrcoef(english_score, chinese_score)\n",
    "print(\"補考後數學與國文成績的相關係數：\\n\", math_requiz_chinese_coef)\n",
    "print(\"英文與國文成績的相關係數：\\n\", english_chinese_coef)\n",
    "\n",
    "# 判斷哪個科目與國文的相關係數最高\n",
    "math_coef_greater_eng_coef = np.greater(math_requiz_chinese_coef, english_chinese_coef)\n",
    "\n",
    "if math_coef_greater_eng_coef.any() == True:\n",
    "    max_coef_subject_with_chinese = '數學'\n",
    "else:\n",
    "    max_coef_subject_with_chinese = '英文'\n",
    "\n",
    "print(\"與國文成績的相關係數最高的學科：%s\" % (max_coef_subject_with_chinese))"
   ]
  },
  {
   "cell_type": "code",
   "execution_count": null,
   "metadata": {},
   "outputs": [],
   "source": []
  }
 ],
 "metadata": {
  "colab": {
   "authorship_tag": "ABX9TyPtywwDR7TsGGEOMGYLDT5h",
   "collapsed_sections": [],
   "name": "作業Hong題目.ipynb",
   "provenance": []
  },
  "kernelspec": {
   "display_name": "Python 3",
   "language": "python",
   "name": "python3"
  },
  "language_info": {
   "codemirror_mode": {
    "name": "ipython",
    "version": 3
   },
   "file_extension": ".py",
   "mimetype": "text/x-python",
   "name": "python",
   "nbconvert_exporter": "python",
   "pygments_lexer": "ipython3",
   "version": "3.7.6"
  }
 },
 "nbformat": 4,
 "nbformat_minor": 1
}
