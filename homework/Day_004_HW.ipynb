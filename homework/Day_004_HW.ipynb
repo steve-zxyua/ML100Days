{
 "cells": [
  {
   "cell_type": "code",
   "execution_count": null,
   "metadata": {
    "id": "J8gYBNBr2Ttc"
   },
   "outputs": [],
   "source": []
  },
  {
   "cell_type": "markdown",
   "metadata": {
    "id": "XYM0mQCi2WTY"
   },
   "source": [
    "作業目標<br>\n",
    "熟悉邏輯運算<br>\n",
    "作業重點<br>\n",
    "五大類邏輯函式與其對應的函式操作"
   ]
  },
  {
   "cell_type": "markdown",
   "metadata": {
    "id": "-MPLt0EF2Zto"
   },
   "source": [
    "題目:<br>\n",
    "english_score = np.array([55,89,76,65,48,70])<br>\n",
    "math_score = np.array([60,85,60,68,55,60])<br>\n",
    "chinese_score = np.array([65,90,82,72,66,77])<br>\n",
    "上3列共六位同學的英文、數學、國文成績，第一個元素代表第一位同學，舉例第一位同學英文55分、數學60分、國文65分，運用上列數據回答下列問題。<br>\n",
    "1. 有多少學生英文成績比數學成績高?\n",
    "2. 是否全班同學最高分都是國文?\n",
    "\n",
    "\n"
   ]
  },
  {
   "cell_type": "code",
   "execution_count": 1,
   "metadata": {
    "id": "owy7B7Us2ZEM"
   },
   "outputs": [],
   "source": [
    "import numpy as np"
   ]
  },
  {
   "cell_type": "code",
   "execution_count": 12,
   "metadata": {
    "executionInfo": {
     "elapsed": 818,
     "status": "ok",
     "timestamp": 1609854133025,
     "user": {
      "displayName": "献竤黃",
      "photoUrl": "",
      "userId": "07529243043474362942"
     },
     "user_tz": -480
    },
    "id": "i0RGMNH72xkh"
   },
   "outputs": [
    {
     "name": "stdout",
     "output_type": "stream",
     "text": [
      "英文成績比數學成績高： [False  True  True False False  True]\n",
      "有多少學生英文成績比數學成績高： 3\n"
     ]
    }
   ],
   "source": [
    "#1.有多少學生英文成績比數學成績高?\n",
    "english_score = np.array([55,89,76,65,48,70])\n",
    "math_score = np.array([60,85,60,68,55,60])\n",
    "chinese_score = np.array([65,90,82,72,66,77])\n",
    "\n",
    "# 測試：如果只有一位同學的國文是最高分，any()還是會True\n",
    "# english_score = np.array([55,89,76,65,48,70])\n",
    "# math_score = np.array([60,85,60,68,55,60])\n",
    "# chinese_score = np.array([65,10,12,22,26,17])\n",
    "\n",
    "eng_greater_math = np.greater(english_score, math_score)\n",
    "print(\"英文成績比數學成績高：\", eng_greater_math)\n",
    "\n",
    "count_eng_greater_math = 0\n",
    "for x in range(0, len(eng_greater_math)):\n",
    "    if eng_greater_math[x] == True:\n",
    "        count_eng_greater_math += 1\n",
    "    else:\n",
    "        continue\n",
    "print(\"有多少學生英文成績比數學成績高：\", count_eng_greater_math)"
   ]
  },
  {
   "cell_type": "code",
   "execution_count": 25,
   "metadata": {
    "executionInfo": {
     "elapsed": 1269,
     "status": "ok",
     "timestamp": 1609854133487,
     "user": {
      "displayName": "献竤黃",
      "photoUrl": "",
      "userId": "07529243043474362942"
     },
     "user_tz": -480
    },
    "id": "F4Hzk1HM8pBZ"
   },
   "outputs": [
    {
     "name": "stdout",
     "output_type": "stream",
     "text": [
      "全班同學國文都是最高分?： [ True  True  True  True  True  True]\n",
      "是否全班同學最高分都是國文? all()： True\n"
     ]
    }
   ],
   "source": [
    "#2.是否全班同學最高分都是國文?\n",
    "ch_greater_math = np.greater(chinese_score, math_score)\n",
    "ch_greater_eng = np.greater(chinese_score, english_score)\n",
    "\n",
    "print(\"全班同學國文都是最高分?：\", np.logical_and(ch_greater_math, ch_greater_eng))\n",
    "# any()：只要其中一位同學最高分是國文，就會是True\n",
    "# print(\"是否全班同學最高分都是國文? a.any()：\", np.logical_and(ch_greater_math, ch_greater_eng).any())\n",
    "# all()：「全部」同學必須最高分都要是國文，才會是True\n",
    "print(\"是否全班同學最高分都是國文? all()：\", np.logical_and(ch_greater_math, ch_greater_eng).all())"
   ]
  },
  {
   "cell_type": "code",
   "execution_count": null,
   "metadata": {},
   "outputs": [],
   "source": []
  }
 ],
 "metadata": {
  "colab": {
   "authorship_tag": "ABX9TyMvnUzt7pnXvEj6Wk0LCRLY",
   "collapsed_sections": [],
   "name": "作業Hong題目.ipynb",
   "provenance": []
  },
  "kernelspec": {
   "display_name": "Python 3",
   "language": "python",
   "name": "python3"
  },
  "language_info": {
   "codemirror_mode": {
    "name": "ipython",
    "version": 3
   },
   "file_extension": ".py",
   "mimetype": "text/x-python",
   "name": "python",
   "nbconvert_exporter": "python",
   "pygments_lexer": "ipython3",
   "version": "3.7.6"
  }
 },
 "nbformat": 4,
 "nbformat_minor": 1
}
